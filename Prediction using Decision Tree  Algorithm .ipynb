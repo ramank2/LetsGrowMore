{
 "cells": [
  {
   "cell_type": "markdown",
   "id": "a89041aa",
   "metadata": {},
   "source": [
    "### Name : Raman Kumar\n",
    "\n",
    "### LetsGrow More\n"
   ]
  },
  {
   "cell_type": "markdown",
   "id": "58a8d33d",
   "metadata": {},
   "source": [
    "# Create the Decision Tree classifier and visualize it graphically.\n",
    "\n",
    "The purpose is if we feed any new data to this classifier, it would be able to predict the right class accordingly."
   ]
  },
  {
   "cell_type": "code",
   "execution_count": 1,
   "id": "f58141a0",
   "metadata": {},
   "outputs": [],
   "source": [
    "#Load Important Libraries\n",
    "\n",
    "import os\n",
    "\n",
    "import numpy as np\n",
    "import pandas as pd\n",
    "import matplotlib.pyplot as plt\n",
    "%matplotlib inline\n",
    "import seaborn as sns"
   ]
  },
  {
   "cell_type": "markdown",
   "id": "cdaffabb",
   "metadata": {},
   "source": [
    "#### Set Working Directory "
   ]
  },
  {
   "cell_type": "code",
   "execution_count": 2,
   "id": "1b207604",
   "metadata": {},
   "outputs": [],
   "source": [
    "os.chdir('C:\\Internships & Projects\\Lets Grow More Internship\\Intermediate Level\\Project 2')"
   ]
  },
  {
   "cell_type": "markdown",
   "id": "9a50526a",
   "metadata": {},
   "source": [
    "#### Load The data "
   ]
  },
  {
   "cell_type": "code",
   "execution_count": 3,
   "id": "32abe12a",
   "metadata": {},
   "outputs": [
    {
     "data": {
      "text/html": [
       "<div>\n",
       "<style scoped>\n",
       "    .dataframe tbody tr th:only-of-type {\n",
       "        vertical-align: middle;\n",
       "    }\n",
       "\n",
       "    .dataframe tbody tr th {\n",
       "        vertical-align: top;\n",
       "    }\n",
       "\n",
       "    .dataframe thead th {\n",
       "        text-align: right;\n",
       "    }\n",
       "</style>\n",
       "<table border=\"1\" class=\"dataframe\">\n",
       "  <thead>\n",
       "    <tr style=\"text-align: right;\">\n",
       "      <th></th>\n",
       "      <th>Id</th>\n",
       "      <th>SepalLengthCm</th>\n",
       "      <th>SepalWidthCm</th>\n",
       "      <th>PetalLengthCm</th>\n",
       "      <th>PetalWidthCm</th>\n",
       "      <th>Species</th>\n",
       "    </tr>\n",
       "  </thead>\n",
       "  <tbody>\n",
       "    <tr>\n",
       "      <th>0</th>\n",
       "      <td>1</td>\n",
       "      <td>5.1</td>\n",
       "      <td>3.5</td>\n",
       "      <td>1.4</td>\n",
       "      <td>0.2</td>\n",
       "      <td>Iris-setosa</td>\n",
       "    </tr>\n",
       "    <tr>\n",
       "      <th>1</th>\n",
       "      <td>2</td>\n",
       "      <td>4.9</td>\n",
       "      <td>3.0</td>\n",
       "      <td>1.4</td>\n",
       "      <td>0.2</td>\n",
       "      <td>Iris-setosa</td>\n",
       "    </tr>\n",
       "    <tr>\n",
       "      <th>2</th>\n",
       "      <td>3</td>\n",
       "      <td>4.7</td>\n",
       "      <td>3.2</td>\n",
       "      <td>1.3</td>\n",
       "      <td>0.2</td>\n",
       "      <td>Iris-setosa</td>\n",
       "    </tr>\n",
       "    <tr>\n",
       "      <th>3</th>\n",
       "      <td>4</td>\n",
       "      <td>4.6</td>\n",
       "      <td>3.1</td>\n",
       "      <td>1.5</td>\n",
       "      <td>0.2</td>\n",
       "      <td>Iris-setosa</td>\n",
       "    </tr>\n",
       "    <tr>\n",
       "      <th>4</th>\n",
       "      <td>5</td>\n",
       "      <td>5.0</td>\n",
       "      <td>3.6</td>\n",
       "      <td>1.4</td>\n",
       "      <td>0.2</td>\n",
       "      <td>Iris-setosa</td>\n",
       "    </tr>\n",
       "  </tbody>\n",
       "</table>\n",
       "</div>"
      ],
      "text/plain": [
       "   Id  SepalLengthCm  SepalWidthCm  PetalLengthCm  PetalWidthCm      Species\n",
       "0   1            5.1           3.5            1.4           0.2  Iris-setosa\n",
       "1   2            4.9           3.0            1.4           0.2  Iris-setosa\n",
       "2   3            4.7           3.2            1.3           0.2  Iris-setosa\n",
       "3   4            4.6           3.1            1.5           0.2  Iris-setosa\n",
       "4   5            5.0           3.6            1.4           0.2  Iris-setosa"
      ]
     },
     "execution_count": 3,
     "metadata": {},
     "output_type": "execute_result"
    }
   ],
   "source": [
    "data = pd.read_csv(\"Iris.csv\")\n",
    "data.head()"
   ]
  },
  {
   "cell_type": "markdown",
   "id": "912ee6eb",
   "metadata": {},
   "source": [
    "#### Descriptive Statistics "
   ]
  },
  {
   "cell_type": "code",
   "execution_count": 4,
   "id": "46fdfeb5",
   "metadata": {},
   "outputs": [
    {
     "data": {
      "text/plain": [
       "(150, 6)"
      ]
     },
     "execution_count": 4,
     "metadata": {},
     "output_type": "execute_result"
    }
   ],
   "source": [
    "data.shape"
   ]
  },
  {
   "cell_type": "code",
   "execution_count": 5,
   "id": "55101a8c",
   "metadata": {},
   "outputs": [],
   "source": [
    "#drop the ID column\n",
    "\n",
    "data = data.drop(\"Id\", axis=1)"
   ]
  },
  {
   "cell_type": "code",
   "execution_count": 6,
   "id": "719d6d1d",
   "metadata": {},
   "outputs": [
    {
     "data": {
      "text/html": [
       "<style  type=\"text/css\" >\n",
       "#T_92d4c_row0_col0,#T_92d4c_row0_col1,#T_92d4c_row0_col2,#T_92d4c_row0_col3{\n",
       "            background-color:  #ffc77f;\n",
       "            color:  #000000;\n",
       "        }#T_92d4c_row1_col0,#T_92d4c_row5_col0{\n",
       "            background-color:  #0a0604;\n",
       "            color:  #f1f1f1;\n",
       "        }#T_92d4c_row1_col1,#T_92d4c_row1_col2,#T_92d4c_row4_col1,#T_92d4c_row5_col1,#T_92d4c_row6_col1,#T_92d4c_row7_col3{\n",
       "            background-color:  #050302;\n",
       "            color:  #f1f1f1;\n",
       "        }#T_92d4c_row1_col3,#T_92d4c_row2_col2,#T_92d4c_row2_col3,#T_92d4c_row4_col2{\n",
       "            background-color:  #010100;\n",
       "            color:  #f1f1f1;\n",
       "        }#T_92d4c_row2_col0,#T_92d4c_row2_col1,#T_92d4c_row3_col2,#T_92d4c_row3_col3,#T_92d4c_row4_col3{\n",
       "            background-color:  #000000;\n",
       "            color:  #f1f1f1;\n",
       "        }#T_92d4c_row3_col0,#T_92d4c_row5_col2{\n",
       "            background-color:  #060402;\n",
       "            color:  #f1f1f1;\n",
       "        }#T_92d4c_row3_col1,#T_92d4c_row5_col3,#T_92d4c_row6_col3{\n",
       "            background-color:  #020201;\n",
       "            color:  #f1f1f1;\n",
       "        }#T_92d4c_row4_col0,#T_92d4c_row6_col2{\n",
       "            background-color:  #090503;\n",
       "            color:  #f1f1f1;\n",
       "        }#T_92d4c_row6_col0{\n",
       "            background-color:  #0b0704;\n",
       "            color:  #f1f1f1;\n",
       "        }#T_92d4c_row7_col0{\n",
       "            background-color:  #0f0906;\n",
       "            color:  #f1f1f1;\n",
       "        }#T_92d4c_row7_col1{\n",
       "            background-color:  #070503;\n",
       "            color:  #f1f1f1;\n",
       "        }#T_92d4c_row7_col2{\n",
       "            background-color:  #0c0805;\n",
       "            color:  #f1f1f1;\n",
       "        }</style><table id=\"T_92d4c_\" ><thead>    <tr>        <th class=\"blank level0\" ></th>        <th class=\"col_heading level0 col0\" >SepalLengthCm</th>        <th class=\"col_heading level0 col1\" >SepalWidthCm</th>        <th class=\"col_heading level0 col2\" >PetalLengthCm</th>        <th class=\"col_heading level0 col3\" >PetalWidthCm</th>    </tr></thead><tbody>\n",
       "                <tr>\n",
       "                        <th id=\"T_92d4c_level0_row0\" class=\"row_heading level0 row0\" >count</th>\n",
       "                        <td id=\"T_92d4c_row0_col0\" class=\"data row0 col0\" >150.000000</td>\n",
       "                        <td id=\"T_92d4c_row0_col1\" class=\"data row0 col1\" >150.000000</td>\n",
       "                        <td id=\"T_92d4c_row0_col2\" class=\"data row0 col2\" >150.000000</td>\n",
       "                        <td id=\"T_92d4c_row0_col3\" class=\"data row0 col3\" >150.000000</td>\n",
       "            </tr>\n",
       "            <tr>\n",
       "                        <th id=\"T_92d4c_level0_row1\" class=\"row_heading level0 row1\" >mean</th>\n",
       "                        <td id=\"T_92d4c_row1_col0\" class=\"data row1 col0\" >5.843333</td>\n",
       "                        <td id=\"T_92d4c_row1_col1\" class=\"data row1 col1\" >3.054000</td>\n",
       "                        <td id=\"T_92d4c_row1_col2\" class=\"data row1 col2\" >3.758667</td>\n",
       "                        <td id=\"T_92d4c_row1_col3\" class=\"data row1 col3\" >1.198667</td>\n",
       "            </tr>\n",
       "            <tr>\n",
       "                        <th id=\"T_92d4c_level0_row2\" class=\"row_heading level0 row2\" >std</th>\n",
       "                        <td id=\"T_92d4c_row2_col0\" class=\"data row2 col0\" >0.828066</td>\n",
       "                        <td id=\"T_92d4c_row2_col1\" class=\"data row2 col1\" >0.433594</td>\n",
       "                        <td id=\"T_92d4c_row2_col2\" class=\"data row2 col2\" >1.764420</td>\n",
       "                        <td id=\"T_92d4c_row2_col3\" class=\"data row2 col3\" >0.763161</td>\n",
       "            </tr>\n",
       "            <tr>\n",
       "                        <th id=\"T_92d4c_level0_row3\" class=\"row_heading level0 row3\" >min</th>\n",
       "                        <td id=\"T_92d4c_row3_col0\" class=\"data row3 col0\" >4.300000</td>\n",
       "                        <td id=\"T_92d4c_row3_col1\" class=\"data row3 col1\" >2.000000</td>\n",
       "                        <td id=\"T_92d4c_row3_col2\" class=\"data row3 col2\" >1.000000</td>\n",
       "                        <td id=\"T_92d4c_row3_col3\" class=\"data row3 col3\" >0.100000</td>\n",
       "            </tr>\n",
       "            <tr>\n",
       "                        <th id=\"T_92d4c_level0_row4\" class=\"row_heading level0 row4\" >25%</th>\n",
       "                        <td id=\"T_92d4c_row4_col0\" class=\"data row4 col0\" >5.100000</td>\n",
       "                        <td id=\"T_92d4c_row4_col1\" class=\"data row4 col1\" >2.800000</td>\n",
       "                        <td id=\"T_92d4c_row4_col2\" class=\"data row4 col2\" >1.600000</td>\n",
       "                        <td id=\"T_92d4c_row4_col3\" class=\"data row4 col3\" >0.300000</td>\n",
       "            </tr>\n",
       "            <tr>\n",
       "                        <th id=\"T_92d4c_level0_row5\" class=\"row_heading level0 row5\" >50%</th>\n",
       "                        <td id=\"T_92d4c_row5_col0\" class=\"data row5 col0\" >5.800000</td>\n",
       "                        <td id=\"T_92d4c_row5_col1\" class=\"data row5 col1\" >3.000000</td>\n",
       "                        <td id=\"T_92d4c_row5_col2\" class=\"data row5 col2\" >4.350000</td>\n",
       "                        <td id=\"T_92d4c_row5_col3\" class=\"data row5 col3\" >1.300000</td>\n",
       "            </tr>\n",
       "            <tr>\n",
       "                        <th id=\"T_92d4c_level0_row6\" class=\"row_heading level0 row6\" >75%</th>\n",
       "                        <td id=\"T_92d4c_row6_col0\" class=\"data row6 col0\" >6.400000</td>\n",
       "                        <td id=\"T_92d4c_row6_col1\" class=\"data row6 col1\" >3.300000</td>\n",
       "                        <td id=\"T_92d4c_row6_col2\" class=\"data row6 col2\" >5.100000</td>\n",
       "                        <td id=\"T_92d4c_row6_col3\" class=\"data row6 col3\" >1.800000</td>\n",
       "            </tr>\n",
       "            <tr>\n",
       "                        <th id=\"T_92d4c_level0_row7\" class=\"row_heading level0 row7\" >max</th>\n",
       "                        <td id=\"T_92d4c_row7_col0\" class=\"data row7 col0\" >7.900000</td>\n",
       "                        <td id=\"T_92d4c_row7_col1\" class=\"data row7 col1\" >4.400000</td>\n",
       "                        <td id=\"T_92d4c_row7_col2\" class=\"data row7 col2\" >6.900000</td>\n",
       "                        <td id=\"T_92d4c_row7_col3\" class=\"data row7 col3\" >2.500000</td>\n",
       "            </tr>\n",
       "    </tbody></table>"
      ],
      "text/plain": [
       "<pandas.io.formats.style.Styler at 0x1da40772ac0>"
      ]
     },
     "execution_count": 6,
     "metadata": {},
     "output_type": "execute_result"
    }
   ],
   "source": [
    "data.describe().style.background_gradient(cmap = 'copper')"
   ]
  },
  {
   "cell_type": "code",
   "execution_count": 7,
   "id": "6e35422b",
   "metadata": {},
   "outputs": [
    {
     "name": "stdout",
     "output_type": "stream",
     "text": [
      "<class 'pandas.core.frame.DataFrame'>\n",
      "RangeIndex: 150 entries, 0 to 149\n",
      "Data columns (total 5 columns):\n",
      " #   Column         Non-Null Count  Dtype  \n",
      "---  ------         --------------  -----  \n",
      " 0   SepalLengthCm  150 non-null    float64\n",
      " 1   SepalWidthCm   150 non-null    float64\n",
      " 2   PetalLengthCm  150 non-null    float64\n",
      " 3   PetalWidthCm   150 non-null    float64\n",
      " 4   Species        150 non-null    object \n",
      "dtypes: float64(4), object(1)\n",
      "memory usage: 6.0+ KB\n"
     ]
    }
   ],
   "source": [
    "data.info()"
   ]
  },
  {
   "cell_type": "markdown",
   "id": "c214bb11",
   "metadata": {},
   "source": [
    "#### Missing Value Analysis "
   ]
  },
  {
   "cell_type": "code",
   "execution_count": 8,
   "id": "86e09243",
   "metadata": {},
   "outputs": [
    {
     "data": {
      "text/plain": [
       "SepalLengthCm    0\n",
       "SepalWidthCm     0\n",
       "PetalLengthCm    0\n",
       "PetalWidthCm     0\n",
       "Species          0\n",
       "dtype: int64"
      ]
     },
     "execution_count": 8,
     "metadata": {},
     "output_type": "execute_result"
    }
   ],
   "source": [
    "missing_val = data.isna().sum()\n",
    "missing_val"
   ]
  },
  {
   "cell_type": "markdown",
   "id": "85c89c9f",
   "metadata": {},
   "source": [
    "No Missing Value"
   ]
  },
  {
   "cell_type": "markdown",
   "id": "55b0e1bc",
   "metadata": {},
   "source": [
    "#### EDA"
   ]
  },
  {
   "cell_type": "code",
   "execution_count": 9,
   "id": "98a48705",
   "metadata": {},
   "outputs": [
    {
     "data": {
      "image/png": "[encoded data removed]",
      "text/plain": [
       "<Figure size 432x288 with 1 Axes>"
      ]
     },
     "metadata": {
      "needs_background": "light"
     },
     "output_type": "display_data"
    }
   ],
   "source": [
    "# target Class Count\n",
    "sns.countplot(y=data.Species ,data=data)\n",
    "plt.xlabel(\"Count of each Target class\")\n",
    "plt.ylabel(\"Target classes\")\n",
    "plt.show()"
   ]
  },
  {
   "cell_type": "code",
   "execution_count": 10,
   "id": "110e54b1",
   "metadata": {},
   "outputs": [
    {
     "data": {
      "image/png": "[encoded data removed]",
      "text/plain": [
       "<Figure size 864x432 with 4 Axes>"
      ]
     },
     "metadata": {
      "needs_background": "light"
     },
     "output_type": "display_data"
    }
   ],
   "source": [
    "#Distribution of length & Width\n",
    "\n",
    "data.hist()\n",
    "fig=plt.gcf()\n",
    "fig.set_size_inches(12,6)\n",
    "plt.show()"
   ]
  },
  {
   "cell_type": "code",
   "execution_count": 11,
   "id": "896d23ff",
   "metadata": {},
   "outputs": [
    {
     "data": {
      "image/png": "[encoded data removed]",
      "text/plain": [
       "<Figure size 432x288 with 1 Axes>"
      ]
     },
     "metadata": {
      "needs_background": "light"
     },
     "output_type": "display_data"
    }
   ],
   "source": [
    "#Sepal Length VS Sepal Width\n",
    "fig = data[data.Species=='Iris-setosa'].plot(kind='scatter',x='SepalLengthCm',y='SepalWidthCm',color='orange', label='Setosa')\n",
    "data[data.Species=='Iris-versicolor'].plot(kind='scatter',x='SepalLengthCm',y='SepalWidthCm',color='blue', label='versicolor',ax=fig)\n",
    "data[data.Species=='Iris-virginica'].plot(kind='scatter',x='SepalLengthCm',y='SepalWidthCm',color='green', label='virginica', ax=fig)\n",
    "fig.set_xlabel(\"Sepal Length\")\n",
    "fig.set_ylabel(\"Sepal Width\")\n",
    "fig.set_title(\"Sepal Length VS Sepal Width\")\n",
    "plt.show()"
   ]
  },
  {
   "cell_type": "code",
   "execution_count": 12,
   "id": "d7108dc6",
   "metadata": {},
   "outputs": [
    {
     "data": {
      "image/png": "[encoded data removed]",
      "text/plain": [
       "<Figure size 432x288 with 1 Axes>"
      ]
     },
     "metadata": {
      "needs_background": "light"
     },
     "output_type": "display_data"
    }
   ],
   "source": [
    "#Petal Length VS Petal Width\n",
    "fig = data[data.Species=='Iris-setosa'].plot.scatter(x='PetalLengthCm',y='PetalWidthCm',color='orange', label='Setosa')\n",
    "data[data.Species=='Iris-versicolor'].plot.scatter(x='PetalLengthCm',y='PetalWidthCm',color='blue', label='versicolor',ax=fig)\n",
    "data[data.Species=='Iris-virginica'].plot.scatter(x='PetalLengthCm',y='PetalWidthCm',color='green', label='virginica', ax=fig)\n",
    "fig.set_xlabel(\"Petal Length\")\n",
    "fig.set_ylabel(\"Petal Width\")\n",
    "fig.set_title(\" Petal Length VS Petal Width\")\n",
    "plt.show()"
   ]
  },
  {
   "cell_type": "markdown",
   "id": "0ae81f3a",
   "metadata": {},
   "source": [
    "we can see that the Petal Features are giving a better cluster division compared to the Sepal features.  "
   ]
  },
  {
   "cell_type": "markdown",
   "id": "010144b4",
   "metadata": {},
   "source": [
    "#### Correlation Analysis "
   ]
  },
  {
   "cell_type": "code",
   "execution_count": 13,
   "id": "c08040dc",
   "metadata": {},
   "outputs": [
    {
     "data": {
      "text/html": [
       "<div>\n",
       "<style scoped>\n",
       "    .dataframe tbody tr th:only-of-type {\n",
       "        vertical-align: middle;\n",
       "    }\n",
       "\n",
       "    .dataframe tbody tr th {\n",
       "        vertical-align: top;\n",
       "    }\n",
       "\n",
       "    .dataframe thead th {\n",
       "        text-align: right;\n",
       "    }\n",
       "</style>\n",
       "<table border=\"1\" class=\"dataframe\">\n",
       "  <thead>\n",
       "    <tr style=\"text-align: right;\">\n",
       "      <th></th>\n",
       "      <th>SepalLengthCm</th>\n",
       "      <th>SepalWidthCm</th>\n",
       "      <th>PetalLengthCm</th>\n",
       "      <th>PetalWidthCm</th>\n",
       "    </tr>\n",
       "  </thead>\n",
       "  <tbody>\n",
       "    <tr>\n",
       "      <th>SepalLengthCm</th>\n",
       "      <td>1.000000</td>\n",
       "      <td>-0.109369</td>\n",
       "      <td>0.871754</td>\n",
       "      <td>0.817954</td>\n",
       "    </tr>\n",
       "    <tr>\n",
       "      <th>SepalWidthCm</th>\n",
       "      <td>-0.109369</td>\n",
       "      <td>1.000000</td>\n",
       "      <td>-0.420516</td>\n",
       "      <td>-0.356544</td>\n",
       "    </tr>\n",
       "    <tr>\n",
       "      <th>PetalLengthCm</th>\n",
       "      <td>0.871754</td>\n",
       "      <td>-0.420516</td>\n",
       "      <td>1.000000</td>\n",
       "      <td>0.962757</td>\n",
       "    </tr>\n",
       "    <tr>\n",
       "      <th>PetalWidthCm</th>\n",
       "      <td>0.817954</td>\n",
       "      <td>-0.356544</td>\n",
       "      <td>0.962757</td>\n",
       "      <td>1.000000</td>\n",
       "    </tr>\n",
       "  </tbody>\n",
       "</table>\n",
       "</div>"
      ],
      "text/plain": [
       "               SepalLengthCm  SepalWidthCm  PetalLengthCm  PetalWidthCm\n",
       "SepalLengthCm       1.000000     -0.109369       0.871754      0.817954\n",
       "SepalWidthCm       -0.109369      1.000000      -0.420516     -0.356544\n",
       "PetalLengthCm       0.871754     -0.420516       1.000000      0.962757\n",
       "PetalWidthCm        0.817954     -0.356544       0.962757      1.000000"
      ]
     },
     "execution_count": 13,
     "metadata": {},
     "output_type": "execute_result"
    }
   ],
   "source": [
    "data.corr()"
   ]
  },
  {
   "cell_type": "code",
   "execution_count": 14,
   "id": "19fbed6e",
   "metadata": {},
   "outputs": [
    {
     "data": {
      "image/png": "[encoded data removed]",
      "text/plain": [
       "<Figure size 720x720 with 2 Axes>"
      ]
     },
     "metadata": {
      "needs_background": "light"
     },
     "output_type": "display_data"
    }
   ],
   "source": [
    "plt.figure(figsize=(10,10))\n",
    "p=sns.heatmap(data.corr(), annot=True,cmap='RdYlGn') "
   ]
  },
  {
   "cell_type": "markdown",
   "id": "8f22a7ac",
   "metadata": {},
   "source": [
    "### Machine Learning "
   ]
  },
  {
   "cell_type": "markdown",
   "id": "4a529872",
   "metadata": {},
   "source": [
    "#### Label Encoding the target class as ML deals only with Numerical features "
   ]
  },
  {
   "cell_type": "code",
   "execution_count": 15,
   "id": "6cf48c7f",
   "metadata": {},
   "outputs": [
    {
     "data": {
      "text/plain": [
       "array([0, 1, 2])"
      ]
     },
     "execution_count": 15,
     "metadata": {},
     "output_type": "execute_result"
    }
   ],
   "source": [
    "# Import label encoder\n",
    "from sklearn import preprocessing\n",
    " \n",
    "# label_encoder object knows how to understand word labels.\n",
    "label_encoder = preprocessing.LabelEncoder()\n",
    " \n",
    "# Encode labels in column 'species'.\n",
    "data['Species']= label_encoder.fit_transform(data['Species'])\n",
    " \n",
    "data['Species'].unique()"
   ]
  },
  {
   "cell_type": "markdown",
   "id": "ca55b284",
   "metadata": {},
   "source": [
    "### Train Test Split "
   ]
  },
  {
   "cell_type": "code",
   "execution_count": 16,
   "id": "dee07974",
   "metadata": {},
   "outputs": [],
   "source": [
    "# Dividing data into Train and Test\n",
    "from sklearn.model_selection import train_test_split , cross_val_score\n",
    "X = data.drop('Species', axis=1)\n",
    "y = data['Species']\n",
    "X_train, X_test, y_train, y_test = train_test_split(X, y, test_size=0.3, random_state=123)"
   ]
  },
  {
   "cell_type": "markdown",
   "id": "7cfacbd0",
   "metadata": {},
   "source": [
    "#### Scaling The Data "
   ]
  },
  {
   "cell_type": "code",
   "execution_count": 17,
   "id": "af9d8e7c",
   "metadata": {},
   "outputs": [],
   "source": [
    "from sklearn.preprocessing import StandardScaler\n",
    "sc = StandardScaler()\n",
    "X_train = sc.fit_transform(X_train)\n",
    "X_test = sc.transform(X_test)"
   ]
  },
  {
   "cell_type": "markdown",
   "id": "8eb22612",
   "metadata": {},
   "source": [
    "### DecisionTreeClassifier "
   ]
  },
  {
   "cell_type": "code",
   "execution_count": 18,
   "id": "100ab7f5",
   "metadata": {},
   "outputs": [],
   "source": [
    "from sklearn.tree import DecisionTreeClassifier\n",
    "\n",
    "dfc = DecisionTreeClassifier()\n",
    "dfc.fit(X_train, y_train)\n",
    "y_pred = dfc.predict(X_test)"
   ]
  },
  {
   "cell_type": "markdown",
   "id": "b75f833f",
   "metadata": {},
   "source": [
    "### Model Evaluation "
   ]
  },
  {
   "cell_type": "code",
   "execution_count": 19,
   "id": "1f160b15",
   "metadata": {},
   "outputs": [
    {
     "name": "stdout",
     "output_type": "stream",
     "text": [
      "[[18  0  0]\n",
      " [ 0 10  0]\n",
      " [ 0  3 14]]\n",
      "0.9333333333333333\n",
      "              precision    recall  f1-score   support\n",
      "\n",
      "           0       1.00      1.00      1.00        18\n",
      "           1       0.77      1.00      0.87        10\n",
      "           2       1.00      0.82      0.90        17\n",
      "\n",
      "    accuracy                           0.93        45\n",
      "   macro avg       0.92      0.94      0.92        45\n",
      "weighted avg       0.95      0.93      0.93        45\n",
      "\n"
     ]
    },
    {
     "data": {
      "image/png": "[encoded data removed]",
      "text/plain": [
       "<Figure size 432x288 with 2 Axes>"
      ]
     },
     "metadata": {
      "needs_background": "light"
     },
     "output_type": "display_data"
    }
   ],
   "source": [
    "from sklearn.metrics import accuracy_score, confusion_matrix, classification_report\n",
    "\n",
    "cm= confusion_matrix(y_test, y_pred)\n",
    "print(cm)\n",
    "sns.heatmap(cm, annot=True)\n",
    "print(accuracy_score(y_test, y_pred))\n",
    "print(classification_report(y_test, y_pred))"
   ]
  },
  {
   "cell_type": "markdown",
   "id": "bc293b7a",
   "metadata": {},
   "source": [
    "### Graphical Representation "
   ]
  },
  {
   "cell_type": "code",
   "execution_count": 20,
   "id": "88409162",
   "metadata": {},
   "outputs": [
    {
     "data": {
      "text/plain": [
       "[Text(167.40000000000003, 199.32, 'X[2] <= -0.813\\ngini = 0.663\\nsamples = 105\\nvalue = [32, 40, 33]'),\n",
       " Text(133.92000000000002, 163.07999999999998, 'gini = 0.0\\nsamples = 32\\nvalue = [32, 0, 0]'),\n",
       " Text(200.88000000000002, 163.07999999999998, 'X[3] <= 0.704\\ngini = 0.495\\nsamples = 73\\nvalue = [0, 40, 33]'),\n",
       " Text(133.92000000000002, 126.83999999999999, 'X[2] <= 0.887\\ngini = 0.133\\nsamples = 42\\nvalue = [0, 39, 3]'),\n",
       " Text(100.44000000000001, 90.6, 'X[0] <= -1.098\\ngini = 0.049\\nsamples = 40\\nvalue = [0, 39, 1]'),\n",
       " Text(66.96000000000001, 54.359999999999985, 'X[3] <= 0.161\\ngini = 0.5\\nsamples = 2\\nvalue = [0, 1, 1]'),\n",
       " Text(33.480000000000004, 18.119999999999976, 'gini = 0.0\\nsamples = 1\\nvalue = [0, 1, 0]'),\n",
       " Text(100.44000000000001, 18.119999999999976, 'gini = 0.0\\nsamples = 1\\nvalue = [0, 0, 1]'),\n",
       " Text(133.92000000000002, 54.359999999999985, 'gini = 0.0\\nsamples = 38\\nvalue = [0, 38, 0]'),\n",
       " Text(167.40000000000003, 90.6, 'gini = 0.0\\nsamples = 2\\nvalue = [0, 0, 2]'),\n",
       " Text(267.84000000000003, 126.83999999999999, 'X[2] <= 0.594\\ngini = 0.062\\nsamples = 31\\nvalue = [0, 1, 30]'),\n",
       " Text(234.36, 90.6, 'X[0] <= 0.228\\ngini = 0.5\\nsamples = 2\\nvalue = [0, 1, 1]'),\n",
       " Text(200.88000000000002, 54.359999999999985, 'gini = 0.0\\nsamples = 1\\nvalue = [0, 1, 0]'),\n",
       " Text(267.84000000000003, 54.359999999999985, 'gini = 0.0\\nsamples = 1\\nvalue = [0, 0, 1]'),\n",
       " Text(301.32000000000005, 90.6, 'gini = 0.0\\nsamples = 29\\nvalue = [0, 0, 29]')]"
      ]
     },
     "execution_count": 20,
     "metadata": {},
     "output_type": "execute_result"
    },
    {
     "data": {
      "image/png": "[encoded data removed]",
      "text/plain": [
       "<Figure size 432x288 with 1 Axes>"
      ]
     },
     "metadata": {
      "needs_background": "light"
     },
     "output_type": "display_data"
    }
   ],
   "source": [
    "from sklearn import tree\n",
    "tree.plot_tree(dfc) "
   ]
  },
  {
   "cell_type": "markdown",
   "id": "d095f7db",
   "metadata": {},
   "source": [
    "#### Visualizing Decision Tree using graphviz library "
   ]
  },
  {
   "cell_type": "code",
   "execution_count": 21,
   "id": "633808e5",
   "metadata": {},
   "outputs": [
    {
     "data": {
      "image/svg+xml": [
       "<?xml version=\"1.0\" encoding=\"UTF-8\" standalone=\"no\"?>\r\n",
       "<!DOCTYPE svg PUBLIC \"-//W3C//DTD SVG 1.1//EN\"\r\n",
       " \"http://www.w3.org/Graphics/SVG/1.1/DTD/svg11.dtd\">\r\n",
       "<!-- Generated by graphviz version 2.38.0 (20140413.2041)\r\n",
       " -->\r\n",
       "<!-- Title: Tree Pages: 1 -->\r\n",
       "<svg width=\"562pt\" height=\"581pt\"\r\n",
       " viewBox=\"0.00 0.00 561.50 581.00\" xmlns=\"http://www.w3.org/2000/svg\" xmlns:xlink=\"http://www.w3.org/1999/xlink\">\r\n",
       "<g id=\"graph0\" class=\"graph\" transform=\"scale(1 1) rotate(0) translate(4 577)\">\r\n",
       "<title>Tree</title>\r\n",
       "<polygon fill=\"white\" stroke=\"none\" points=\"-4,4 -4,-577 557.5,-577 557.5,4 -4,4\"/>\r\n",
       "<!-- 0 -->\r\n",
       "<g id=\"node1\" class=\"node\"><title>0</title>\r\n",
       "<polygon fill=\"none\" stroke=\"black\" points=\"302,-573 177,-573 177,-505 302,-505 302,-573\"/>\r\n",
       "<text text-anchor=\"middle\" x=\"239.5\" y=\"-557.8\" font-family=\"Times New Roman,serif\" font-size=\"14.00\">X[2] &lt;= &#45;0.813</text>\r\n",
       "<text text-anchor=\"middle\" x=\"239.5\" y=\"-542.8\" font-family=\"Times New Roman,serif\" font-size=\"14.00\">gini = 0.663</text>\r\n",
       "<text text-anchor=\"middle\" x=\"239.5\" y=\"-527.8\" font-family=\"Times New Roman,serif\" font-size=\"14.00\">samples = 105</text>\r\n",
       "<text text-anchor=\"middle\" x=\"239.5\" y=\"-512.8\" font-family=\"Times New Roman,serif\" font-size=\"14.00\">value = [32, 40, 33]</text>\r\n",
       "</g>\r\n",
       "<!-- 1 -->\r\n",
       "<g id=\"node2\" class=\"node\"><title>1</title>\r\n",
       "<polygon fill=\"none\" stroke=\"black\" points=\"228.5,-461.5 116.5,-461.5 116.5,-408.5 228.5,-408.5 228.5,-461.5\"/>\r\n",
       "<text text-anchor=\"middle\" x=\"172.5\" y=\"-446.3\" font-family=\"Times New Roman,serif\" font-size=\"14.00\">gini = 0.0</text>\r\n",
       "<text text-anchor=\"middle\" x=\"172.5\" y=\"-431.3\" font-family=\"Times New Roman,serif\" font-size=\"14.00\">samples = 32</text>\r\n",
       "<text text-anchor=\"middle\" x=\"172.5\" y=\"-416.3\" font-family=\"Times New Roman,serif\" font-size=\"14.00\">value = [32, 0, 0]</text>\r\n",
       "</g>\r\n",
       "<!-- 0&#45;&gt;1 -->\r\n",
       "<g id=\"edge1\" class=\"edge\"><title>0&#45;&gt;1</title>\r\n",
       "<path fill=\"none\" stroke=\"black\" d=\"M217.747,-504.884C210.451,-493.776 202.303,-481.372 194.954,-470.184\"/>\r\n",
       "<polygon fill=\"black\" stroke=\"black\" points=\"197.679,-467.957 189.263,-461.52 191.828,-471.8 197.679,-467.957\"/>\r\n",
       "<text text-anchor=\"middle\" x=\"184.193\" y=\"-482.3\" font-family=\"Times New Roman,serif\" font-size=\"14.00\">True</text>\r\n",
       "</g>\r\n",
       "<!-- 2 -->\r\n",
       "<g id=\"node3\" class=\"node\"><title>2</title>\r\n",
       "<polygon fill=\"none\" stroke=\"black\" points=\"366,-469 247,-469 247,-401 366,-401 366,-469\"/>\r\n",
       "<text text-anchor=\"middle\" x=\"306.5\" y=\"-453.8\" font-family=\"Times New Roman,serif\" font-size=\"14.00\">X[3] &lt;= 0.704</text>\r\n",
       "<text text-anchor=\"middle\" x=\"306.5\" y=\"-438.8\" font-family=\"Times New Roman,serif\" font-size=\"14.00\">gini = 0.495</text>\r\n",
       "<text text-anchor=\"middle\" x=\"306.5\" y=\"-423.8\" font-family=\"Times New Roman,serif\" font-size=\"14.00\">samples = 73</text>\r\n",
       "<text text-anchor=\"middle\" x=\"306.5\" y=\"-408.8\" font-family=\"Times New Roman,serif\" font-size=\"14.00\">value = [0, 40, 33]</text>\r\n",
       "</g>\r\n",
       "<!-- 0&#45;&gt;2 -->\r\n",
       "<g id=\"edge2\" class=\"edge\"><title>0&#45;&gt;2</title>\r\n",
       "<path fill=\"none\" stroke=\"black\" d=\"M261.253,-504.884C266.928,-496.243 273.119,-486.819 279.048,-477.793\"/>\r\n",
       "<polygon fill=\"black\" stroke=\"black\" points=\"282.062,-479.579 284.627,-469.299 276.211,-475.736 282.062,-479.579\"/>\r\n",
       "<text text-anchor=\"middle\" x=\"289.697\" y=\"-490.08\" font-family=\"Times New Roman,serif\" font-size=\"14.00\">False</text>\r\n",
       "</g>\r\n",
       "<!-- 3 -->\r\n",
       "<g id=\"node4\" class=\"node\"><title>3</title>\r\n",
       "<polygon fill=\"none\" stroke=\"black\" points=\"297.5,-365 185.5,-365 185.5,-297 297.5,-297 297.5,-365\"/>\r\n",
       "<text text-anchor=\"middle\" x=\"241.5\" y=\"-349.8\" font-family=\"Times New Roman,serif\" font-size=\"14.00\">X[2] &lt;= 0.887</text>\r\n",
       "<text text-anchor=\"middle\" x=\"241.5\" y=\"-334.8\" font-family=\"Times New Roman,serif\" font-size=\"14.00\">gini = 0.133</text>\r\n",
       "<text text-anchor=\"middle\" x=\"241.5\" y=\"-319.8\" font-family=\"Times New Roman,serif\" font-size=\"14.00\">samples = 42</text>\r\n",
       "<text text-anchor=\"middle\" x=\"241.5\" y=\"-304.8\" font-family=\"Times New Roman,serif\" font-size=\"14.00\">value = [0, 39, 3]</text>\r\n",
       "</g>\r\n",
       "<!-- 2&#45;&gt;3 -->\r\n",
       "<g id=\"edge3\" class=\"edge\"><title>2&#45;&gt;3</title>\r\n",
       "<path fill=\"none\" stroke=\"black\" d=\"M285.396,-400.884C279.89,-392.243 273.885,-382.819 268.133,-373.793\"/>\r\n",
       "<polygon fill=\"black\" stroke=\"black\" points=\"271.046,-371.852 262.72,-365.299 265.143,-375.614 271.046,-371.852\"/>\r\n",
       "</g>\r\n",
       "<!-- 10 -->\r\n",
       "<g id=\"node11\" class=\"node\"><title>10</title>\r\n",
       "<polygon fill=\"none\" stroke=\"black\" points=\"427.5,-365 315.5,-365 315.5,-297 427.5,-297 427.5,-365\"/>\r\n",
       "<text text-anchor=\"middle\" x=\"371.5\" y=\"-349.8\" font-family=\"Times New Roman,serif\" font-size=\"14.00\">X[2] &lt;= 0.594</text>\r\n",
       "<text text-anchor=\"middle\" x=\"371.5\" y=\"-334.8\" font-family=\"Times New Roman,serif\" font-size=\"14.00\">gini = 0.062</text>\r\n",
       "<text text-anchor=\"middle\" x=\"371.5\" y=\"-319.8\" font-family=\"Times New Roman,serif\" font-size=\"14.00\">samples = 31</text>\r\n",
       "<text text-anchor=\"middle\" x=\"371.5\" y=\"-304.8\" font-family=\"Times New Roman,serif\" font-size=\"14.00\">value = [0, 1, 30]</text>\r\n",
       "</g>\r\n",
       "<!-- 2&#45;&gt;10 -->\r\n",
       "<g id=\"edge10\" class=\"edge\"><title>2&#45;&gt;10</title>\r\n",
       "<path fill=\"none\" stroke=\"black\" d=\"M327.604,-400.884C333.11,-392.243 339.115,-382.819 344.867,-373.793\"/>\r\n",
       "<polygon fill=\"black\" stroke=\"black\" points=\"347.857,-375.614 350.28,-365.299 341.954,-371.852 347.857,-375.614\"/>\r\n",
       "</g>\r\n",
       "<!-- 4 -->\r\n",
       "<g id=\"node5\" class=\"node\"><title>4</title>\r\n",
       "<polygon fill=\"none\" stroke=\"black\" points=\"171.5,-261 59.5,-261 59.5,-193 171.5,-193 171.5,-261\"/>\r\n",
       "<text text-anchor=\"middle\" x=\"115.5\" y=\"-245.8\" font-family=\"Times New Roman,serif\" font-size=\"14.00\">X[0] &lt;= &#45;1.098</text>\r\n",
       "<text text-anchor=\"middle\" x=\"115.5\" y=\"-230.8\" font-family=\"Times New Roman,serif\" font-size=\"14.00\">gini = 0.049</text>\r\n",
       "<text text-anchor=\"middle\" x=\"115.5\" y=\"-215.8\" font-family=\"Times New Roman,serif\" font-size=\"14.00\">samples = 40</text>\r\n",
       "<text text-anchor=\"middle\" x=\"115.5\" y=\"-200.8\" font-family=\"Times New Roman,serif\" font-size=\"14.00\">value = [0, 39, 1]</text>\r\n",
       "</g>\r\n",
       "<!-- 3&#45;&gt;4 -->\r\n",
       "<g id=\"edge4\" class=\"edge\"><title>3&#45;&gt;4</title>\r\n",
       "<path fill=\"none\" stroke=\"black\" d=\"M200.591,-296.884C189.148,-287.62 176.591,-277.455 164.721,-267.845\"/>\r\n",
       "<polygon fill=\"black\" stroke=\"black\" points=\"166.609,-264.871 156.635,-261.299 162.205,-270.312 166.609,-264.871\"/>\r\n",
       "</g>\r\n",
       "<!-- 9 -->\r\n",
       "<g id=\"node10\" class=\"node\"><title>9</title>\r\n",
       "<polygon fill=\"none\" stroke=\"black\" points=\"295,-253.5 190,-253.5 190,-200.5 295,-200.5 295,-253.5\"/>\r\n",
       "<text text-anchor=\"middle\" x=\"242.5\" y=\"-238.3\" font-family=\"Times New Roman,serif\" font-size=\"14.00\">gini = 0.0</text>\r\n",
       "<text text-anchor=\"middle\" x=\"242.5\" y=\"-223.3\" font-family=\"Times New Roman,serif\" font-size=\"14.00\">samples = 2</text>\r\n",
       "<text text-anchor=\"middle\" x=\"242.5\" y=\"-208.3\" font-family=\"Times New Roman,serif\" font-size=\"14.00\">value = [0, 0, 2]</text>\r\n",
       "</g>\r\n",
       "<!-- 3&#45;&gt;9 -->\r\n",
       "<g id=\"edge9\" class=\"edge\"><title>3&#45;&gt;9</title>\r\n",
       "<path fill=\"none\" stroke=\"black\" d=\"M241.825,-296.884C241.928,-286.326 242.043,-274.597 242.148,-263.854\"/>\r\n",
       "<polygon fill=\"black\" stroke=\"black\" points=\"245.652,-263.554 242.25,-253.52 238.652,-263.485 245.652,-263.554\"/>\r\n",
       "</g>\r\n",
       "<!-- 5 -->\r\n",
       "<g id=\"node6\" class=\"node\"><title>5</title>\r\n",
       "<polygon fill=\"none\" stroke=\"black\" points=\"166,-157 61,-157 61,-89 166,-89 166,-157\"/>\r\n",
       "<text text-anchor=\"middle\" x=\"113.5\" y=\"-141.8\" font-family=\"Times New Roman,serif\" font-size=\"14.00\">X[3] &lt;= 0.161</text>\r\n",
       "<text text-anchor=\"middle\" x=\"113.5\" y=\"-126.8\" font-family=\"Times New Roman,serif\" font-size=\"14.00\">gini = 0.5</text>\r\n",
       "<text text-anchor=\"middle\" x=\"113.5\" y=\"-111.8\" font-family=\"Times New Roman,serif\" font-size=\"14.00\">samples = 2</text>\r\n",
       "<text text-anchor=\"middle\" x=\"113.5\" y=\"-96.8\" font-family=\"Times New Roman,serif\" font-size=\"14.00\">value = [0, 1, 1]</text>\r\n",
       "</g>\r\n",
       "<!-- 4&#45;&gt;5 -->\r\n",
       "<g id=\"edge5\" class=\"edge\"><title>4&#45;&gt;5</title>\r\n",
       "<path fill=\"none\" stroke=\"black\" d=\"M114.851,-192.884C114.692,-184.778 114.519,-175.982 114.352,-167.472\"/>\r\n",
       "<polygon fill=\"black\" stroke=\"black\" points=\"117.848,-167.229 114.153,-157.299 110.85,-167.366 117.848,-167.229\"/>\r\n",
       "</g>\r\n",
       "<!-- 8 -->\r\n",
       "<g id=\"node9\" class=\"node\"><title>8</title>\r\n",
       "<polygon fill=\"none\" stroke=\"black\" points=\"296.5,-149.5 184.5,-149.5 184.5,-96.5 296.5,-96.5 296.5,-149.5\"/>\r\n",
       "<text text-anchor=\"middle\" x=\"240.5\" y=\"-134.3\" font-family=\"Times New Roman,serif\" font-size=\"14.00\">gini = 0.0</text>\r\n",
       "<text text-anchor=\"middle\" x=\"240.5\" y=\"-119.3\" font-family=\"Times New Roman,serif\" font-size=\"14.00\">samples = 38</text>\r\n",
       "<text text-anchor=\"middle\" x=\"240.5\" y=\"-104.3\" font-family=\"Times New Roman,serif\" font-size=\"14.00\">value = [0, 38, 0]</text>\r\n",
       "</g>\r\n",
       "<!-- 4&#45;&gt;8 -->\r\n",
       "<g id=\"edge8\" class=\"edge\"><title>4&#45;&gt;8</title>\r\n",
       "<path fill=\"none\" stroke=\"black\" d=\"M156.084,-192.884C170.64,-181.006 187.012,-167.646 201.436,-155.876\"/>\r\n",
       "<polygon fill=\"black\" stroke=\"black\" points=\"203.691,-158.554 209.226,-149.52 199.265,-153.13 203.691,-158.554\"/>\r\n",
       "</g>\r\n",
       "<!-- 6 -->\r\n",
       "<g id=\"node7\" class=\"node\"><title>6</title>\r\n",
       "<polygon fill=\"none\" stroke=\"black\" points=\"105,-53 0,-53 0,-0 105,-0 105,-53\"/>\r\n",
       "<text text-anchor=\"middle\" x=\"52.5\" y=\"-37.8\" font-family=\"Times New Roman,serif\" font-size=\"14.00\">gini = 0.0</text>\r\n",
       "<text text-anchor=\"middle\" x=\"52.5\" y=\"-22.8\" font-family=\"Times New Roman,serif\" font-size=\"14.00\">samples = 1</text>\r\n",
       "<text text-anchor=\"middle\" x=\"52.5\" y=\"-7.8\" font-family=\"Times New Roman,serif\" font-size=\"14.00\">value = [0, 1, 0]</text>\r\n",
       "</g>\r\n",
       "<!-- 5&#45;&gt;6 -->\r\n",
       "<g id=\"edge6\" class=\"edge\"><title>5&#45;&gt;6</title>\r\n",
       "<path fill=\"none\" stroke=\"black\" d=\"M92.1652,-88.9485C86.4963,-80.1664 80.3618,-70.6629 74.6504,-61.815\"/>\r\n",
       "<polygon fill=\"black\" stroke=\"black\" points=\"77.477,-59.7402 69.1131,-53.2367 71.5959,-63.5365 77.477,-59.7402\"/>\r\n",
       "</g>\r\n",
       "<!-- 7 -->\r\n",
       "<g id=\"node8\" class=\"node\"><title>7</title>\r\n",
       "<polygon fill=\"none\" stroke=\"black\" points=\"228,-53 123,-53 123,-0 228,-0 228,-53\"/>\r\n",
       "<text text-anchor=\"middle\" x=\"175.5\" y=\"-37.8\" font-family=\"Times New Roman,serif\" font-size=\"14.00\">gini = 0.0</text>\r\n",
       "<text text-anchor=\"middle\" x=\"175.5\" y=\"-22.8\" font-family=\"Times New Roman,serif\" font-size=\"14.00\">samples = 1</text>\r\n",
       "<text text-anchor=\"middle\" x=\"175.5\" y=\"-7.8\" font-family=\"Times New Roman,serif\" font-size=\"14.00\">value = [0, 0, 1]</text>\r\n",
       "</g>\r\n",
       "<!-- 5&#45;&gt;7 -->\r\n",
       "<g id=\"edge7\" class=\"edge\"><title>5&#45;&gt;7</title>\r\n",
       "<path fill=\"none\" stroke=\"black\" d=\"M135.185,-88.9485C140.946,-80.1664 147.181,-70.6629 152.986,-61.815\"/>\r\n",
       "<polygon fill=\"black\" stroke=\"black\" points=\"156.055,-63.5178 158.615,-53.2367 150.203,-59.6779 156.055,-63.5178\"/>\r\n",
       "</g>\r\n",
       "<!-- 11 -->\r\n",
       "<g id=\"node12\" class=\"node\"><title>11</title>\r\n",
       "<polygon fill=\"none\" stroke=\"black\" points=\"423,-261 318,-261 318,-193 423,-193 423,-261\"/>\r\n",
       "<text text-anchor=\"middle\" x=\"370.5\" y=\"-245.8\" font-family=\"Times New Roman,serif\" font-size=\"14.00\">X[0] &lt;= 0.228</text>\r\n",
       "<text text-anchor=\"middle\" x=\"370.5\" y=\"-230.8\" font-family=\"Times New Roman,serif\" font-size=\"14.00\">gini = 0.5</text>\r\n",
       "<text text-anchor=\"middle\" x=\"370.5\" y=\"-215.8\" font-family=\"Times New Roman,serif\" font-size=\"14.00\">samples = 2</text>\r\n",
       "<text text-anchor=\"middle\" x=\"370.5\" y=\"-200.8\" font-family=\"Times New Roman,serif\" font-size=\"14.00\">value = [0, 1, 1]</text>\r\n",
       "</g>\r\n",
       "<!-- 10&#45;&gt;11 -->\r\n",
       "<g id=\"edge11\" class=\"edge\"><title>10&#45;&gt;11</title>\r\n",
       "<path fill=\"none\" stroke=\"black\" d=\"M371.175,-296.884C371.096,-288.778 371.01,-279.982 370.926,-271.472\"/>\r\n",
       "<polygon fill=\"black\" stroke=\"black\" points=\"374.424,-271.265 370.826,-261.299 367.425,-271.333 374.424,-271.265\"/>\r\n",
       "</g>\r\n",
       "<!-- 14 -->\r\n",
       "<g id=\"node15\" class=\"node\"><title>14</title>\r\n",
       "<polygon fill=\"none\" stroke=\"black\" points=\"553.5,-253.5 441.5,-253.5 441.5,-200.5 553.5,-200.5 553.5,-253.5\"/>\r\n",
       "<text text-anchor=\"middle\" x=\"497.5\" y=\"-238.3\" font-family=\"Times New Roman,serif\" font-size=\"14.00\">gini = 0.0</text>\r\n",
       "<text text-anchor=\"middle\" x=\"497.5\" y=\"-223.3\" font-family=\"Times New Roman,serif\" font-size=\"14.00\">samples = 29</text>\r\n",
       "<text text-anchor=\"middle\" x=\"497.5\" y=\"-208.3\" font-family=\"Times New Roman,serif\" font-size=\"14.00\">value = [0, 0, 29]</text>\r\n",
       "</g>\r\n",
       "<!-- 10&#45;&gt;14 -->\r\n",
       "<g id=\"edge14\" class=\"edge\"><title>10&#45;&gt;14</title>\r\n",
       "<path fill=\"none\" stroke=\"black\" d=\"M412.409,-296.884C427.081,-285.006 443.584,-271.646 458.124,-259.876\"/>\r\n",
       "<polygon fill=\"black\" stroke=\"black\" points=\"460.405,-262.532 465.975,-253.52 456.001,-257.092 460.405,-262.532\"/>\r\n",
       "</g>\r\n",
       "<!-- 12 -->\r\n",
       "<g id=\"node13\" class=\"node\"><title>12</title>\r\n",
       "<polygon fill=\"none\" stroke=\"black\" points=\"422,-149.5 317,-149.5 317,-96.5 422,-96.5 422,-149.5\"/>\r\n",
       "<text text-anchor=\"middle\" x=\"369.5\" y=\"-134.3\" font-family=\"Times New Roman,serif\" font-size=\"14.00\">gini = 0.0</text>\r\n",
       "<text text-anchor=\"middle\" x=\"369.5\" y=\"-119.3\" font-family=\"Times New Roman,serif\" font-size=\"14.00\">samples = 1</text>\r\n",
       "<text text-anchor=\"middle\" x=\"369.5\" y=\"-104.3\" font-family=\"Times New Roman,serif\" font-size=\"14.00\">value = [0, 1, 0]</text>\r\n",
       "</g>\r\n",
       "<!-- 11&#45;&gt;12 -->\r\n",
       "<g id=\"edge12\" class=\"edge\"><title>11&#45;&gt;12</title>\r\n",
       "<path fill=\"none\" stroke=\"black\" d=\"M370.175,-192.884C370.072,-182.326 369.957,-170.597 369.852,-159.854\"/>\r\n",
       "<polygon fill=\"black\" stroke=\"black\" points=\"373.348,-159.485 369.75,-149.52 366.348,-159.554 373.348,-159.485\"/>\r\n",
       "</g>\r\n",
       "<!-- 13 -->\r\n",
       "<g id=\"node14\" class=\"node\"><title>13</title>\r\n",
       "<polygon fill=\"none\" stroke=\"black\" points=\"545,-149.5 440,-149.5 440,-96.5 545,-96.5 545,-149.5\"/>\r\n",
       "<text text-anchor=\"middle\" x=\"492.5\" y=\"-134.3\" font-family=\"Times New Roman,serif\" font-size=\"14.00\">gini = 0.0</text>\r\n",
       "<text text-anchor=\"middle\" x=\"492.5\" y=\"-119.3\" font-family=\"Times New Roman,serif\" font-size=\"14.00\">samples = 1</text>\r\n",
       "<text text-anchor=\"middle\" x=\"492.5\" y=\"-104.3\" font-family=\"Times New Roman,serif\" font-size=\"14.00\">value = [0, 0, 1]</text>\r\n",
       "</g>\r\n",
       "<!-- 11&#45;&gt;13 -->\r\n",
       "<g id=\"edge13\" class=\"edge\"><title>11&#45;&gt;13</title>\r\n",
       "<path fill=\"none\" stroke=\"black\" d=\"M410.11,-192.884C424.185,-181.116 440,-167.894 453.982,-156.203\"/>\r\n",
       "<polygon fill=\"black\" stroke=\"black\" points=\"456.549,-158.619 461.976,-149.52 452.059,-153.249 456.549,-158.619\"/>\r\n",
       "</g>\r\n",
       "</g>\r\n",
       "</svg>\r\n"
      ],
      "text/plain": [
       "<graphviz.files.Source at 0x1da45edc490>"
      ]
     },
     "execution_count": 21,
     "metadata": {},
     "output_type": "execute_result"
    }
   ],
   "source": [
    "import graphviz\n",
    "\n",
    "dot_data = tree.export_graphviz(dfc, out_file = None)\n",
    "\n",
    "graph = graphviz.Source(dot_data)\n",
    "graph"
   ]
  },
  {
   "cell_type": "markdown",
   "id": "e38f1cf5",
   "metadata": {},
   "source": [
    "##### Thank You"
   ]
  }
 ],
 "metadata": {
  "kernelspec": {
   "display_name": "Python 3",
   "language": "python",
   "name": "python3"
  },
  "language_info": {
   "codemirror_mode": {
    "name": "ipython",
    "version": 3
   },
   "file_extension": ".py",
   "mimetype": "text/x-python",
   "name": "python",
   "nbconvert_exporter": "python",
   "pygments_lexer": "ipython3",
   "version": "3.8.8"
  }
 },
 "nbformat": 4,
 "nbformat_minor": 5
}
